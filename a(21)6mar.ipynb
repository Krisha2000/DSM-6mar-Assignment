{
 "cells": [
  {
   "cell_type": "markdown",
   "id": "00854670-e06d-4b83-ae90-370b896a3b38",
   "metadata": {},
   "source": [
    "# Quetion : 1"
   ]
  },
  {
   "cell_type": "markdown",
   "id": "3d5798ed-c429-4a91-915e-f96863217735",
   "metadata": {},
   "source": [
    "Statistics is the branch of mathematics that involves the collection, analysis, interpretation, presentation, and organization of data."
   ]
  },
  {
   "cell_type": "markdown",
   "id": "98541701-4304-44f8-a1b0-ba4c177c235c",
   "metadata": {},
   "source": [
    "# Quetion : 2"
   ]
  },
  {
   "cell_type": "markdown",
   "id": "912e061c-c353-49b9-86c2-1183c2572552",
   "metadata": {},
   "source": [
    "There are two types of statistics: descriptive statistics and inferential statistics. \n",
    "\n",
    "Descriptive statistics are used to summarize and describe a set of data, while inferential statistics are used to make inferences about a population based on a sample of data.\n",
    "\n",
    "Example of descriptive statistics: Mean height of students in a class.\n",
    "\n",
    "Example of inferential statistics: Estimating the average weight of all the dogs in a city by randomly selecting a sample of dogs and measuring their weight."
   ]
  },
  {
   "cell_type": "markdown",
   "id": "cd7da52d-ef0e-454d-be03-f87d2718e279",
   "metadata": {},
   "source": [
    "# Quetion : 3"
   ]
  },
  {
   "cell_type": "markdown",
   "id": "f8f3e4ff-6d03-466b-9d80-deb8ae006807",
   "metadata": {},
   "source": [
    " Data can be categorized into two types: quantitative data and qualitative data.\n",
    "\n",
    "Quantitative data refers to numerical data that can be measured or counted. Examples of quantitative data include height, weight, age, income, and number of siblings.\n",
    "\n",
    "Qualitative data refers to non-numerical data that cannot be measured or counted. Examples of qualitative data include gender, race, color, and occupation"
   ]
  },
  {
   "cell_type": "markdown",
   "id": "965a16a6-dfc8-4d07-86c9-1cec47b46cd8",
   "metadata": {},
   "source": [
    "# Quetion : 4"
   ]
  },
  {
   "cell_type": "markdown",
   "id": "69b87d3d-3928-446e-8bf9-eb77781caec8",
   "metadata": {},
   "source": [
    "(i) Qualitative data (grading in exam)\n",
    "\n",
    "(ii) Qualitative data (color of mangoes)\n",
    "\n",
    "(iii) Quantitative data (height data of a class)\n",
    "\n",
    "(iv) Quantitative data (number of mangoes exported by a farm)"
   ]
  },
  {
   "cell_type": "markdown",
   "id": "29063383-e823-4b75-9a64-91813ade6d35",
   "metadata": {},
   "source": [
    "# Quetion : 5"
   ]
  },
  {
   "cell_type": "markdown",
   "id": "ef7f99a7-caba-4728-924d-de1b6668cd67",
   "metadata": {},
   "source": [
    "Levels of measurement refer to the different ways in which data can be measured or classified. There are four levels of measurement: nominal, ordinal, interval, and ratio.\n",
    "\n",
    "Nominal level of measurement involves classifying data into categories or groups. Example: gender (male, female).\n",
    "\n",
    "Ordinal level of measurement involves categorizing data into ordered categories. Example: ranking (1st, 2nd, 3rd).\n",
    "\n",
    "Interval level of measurement involves measuring data on a scale that has equal intervals between values. Example: temperature measured in degrees Celsius.\n",
    "\n",
    "Ratio level of measurement involves measuring data on a scale that has a true zero point. Example: weight measured in kilograms."
   ]
  },
  {
   "cell_type": "markdown",
   "id": "6da1adfc-d163-4db3-9712-1447c43f8e46",
   "metadata": {},
   "source": [
    "# Quetion : 6"
   ]
  },
  {
   "cell_type": "markdown",
   "id": "b22b76cb-4efb-4091-a74c-fb11e949453f",
   "metadata": {},
   "source": [
    "Understanding the level of measurement is important when analyzing data because it determines which statistical analyses can be performed on the data. For example, arithmetic operations such as addition and subtraction can be performed on interval and ratio data, but not on nominal or ordinal data. Therefore, it is important to know the level of measurement when selecting appropriate statistical methods for data analysis.\n",
    "\n",
    "Example: If we have data on the rankings of different restaurants, we can compute the median or mode of the data, but we cannot compute the mean because ordinal data does not have equal intervals."
   ]
  },
  {
   "cell_type": "markdown",
   "id": "1eff5fb8-39bf-44e6-9c6a-a988c35c0858",
   "metadata": {},
   "source": [
    "# Quetion : 7"
   ]
  },
  {
   "cell_type": "markdown",
   "id": "c5015fae-ef31-481b-98d5-97b17258bbbe",
   "metadata": {},
   "source": [
    "Nominal data type involves categorizing data into distinct categories or groups that have no inherent order. Example: colors of cars (red, blue, green).\n",
    "\n",
    "Ordinal data type involves categorizing data into ordered categories. Example: education level (elementary school, high school, college)."
   ]
  },
  {
   "cell_type": "markdown",
   "id": "d93cfabe-b510-4dc6-815c-f22745cd841a",
   "metadata": {},
   "source": [
    "# Quetion : 8"
   ]
  },
  {
   "cell_type": "markdown",
   "id": "68bed05f-25fb-4c82-b486-2edc7475354b",
   "metadata": {},
   "source": [
    "A box plot can be used to display data in terms of range."
   ]
  },
  {
   "cell_type": "markdown",
   "id": "79322511-6c05-4749-a9c5-bfea69a22d28",
   "metadata": {},
   "source": [
    "# Quetion : 9"
   ]
  },
  {
   "cell_type": "markdown",
   "id": "b831f6fe-1d79-4c1b-b47f-96bc57ea1239",
   "metadata": {},
   "source": [
    "Descriptive statistics are used to describe and summarize a set of data, while inferential statistics are used to make inferences or predictions about a population based on a sample of data.\n",
    "\n",
    "Example of descriptive statistics: Calculating the mean and standard deviation of a set of exam scores.\n",
    "\n",
    "Example of inferential statistics: Conducting a hypothesis test to determine if there is a significant difference in exam scores between two different groups of students."
   ]
  },
  {
   "cell_type": "code",
   "execution_count": null,
   "id": "f1b0a2e0-8382-4eff-9a2b-030281c5120e",
   "metadata": {},
   "outputs": [],
   "source": [
    "# "
   ]
  }
 ],
 "metadata": {
  "kernelspec": {
   "display_name": "Python 3 (ipykernel)",
   "language": "python",
   "name": "python3"
  },
  "language_info": {
   "codemirror_mode": {
    "name": "ipython",
    "version": 3
   },
   "file_extension": ".py",
   "mimetype": "text/x-python",
   "name": "python",
   "nbconvert_exporter": "python",
   "pygments_lexer": "ipython3",
   "version": "3.10.8"
  }
 },
 "nbformat": 4,
 "nbformat_minor": 5
}
